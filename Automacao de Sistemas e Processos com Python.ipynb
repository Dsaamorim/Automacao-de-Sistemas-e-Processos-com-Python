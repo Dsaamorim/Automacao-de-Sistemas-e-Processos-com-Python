{
 "cells": [
  {
   "cell_type": "markdown",
   "id": "7ef6f377",
   "metadata": {},
   "source": [
    "Esse projeto consiste em realizar operação como criar um código de automação de análise de dados e elaboração de relatórios\n"
   ]
  },
  {
   "cell_type": "code",
   "execution_count": 3,
   "id": "191877b6",
   "metadata": {},
   "outputs": [],
   "source": [
    "#importei as bibliotecas:\n",
    "#automação, por exemplo, interação com teclado\n",
    "import pyautogui \n",
    "#congelar o tempo\n",
    "import time \n",
    "#copiar e colar nos campos de texto\n",
    "import pyperclip\n",
    "\n",
    "pyautogui.pause = 1\n",
    "#Passo 1: Abrir uma nova aba\n",
    "\n",
    "pyautogui.hotkey('ctrl','t')\n",
    "#Passo 2: Entrar no link do sistema\n",
    "\n",
    "link = \"https://drive.google.com/drive/my-drive\"\n",
    "pyperclip.copy(link)\n",
    "pyautogui.hotkey('ctrl','v')\n",
    "pyautogui.press(\"enter\")\n",
    "#Passo 3: Navegar até o local onde está a nossa base de dados\n",
    "\n",
    "time.sleep(10)\n",
    "pyautogui.click(333, 574, clicks=2)\n",
    "\n",
    "time.sleep(10)\n",
    "pyautogui.click(329, 331)\n",
    "\n",
    "time.sleep(10)\n",
    "pyautogui.click(1154, 184)\n",
    "\n",
    "time.sleep(10)\n",
    "pyautogui.click(968, 627)\n",
    "#Passo 4: Baixar a planilha de vendas\n",
    "\n",
    "import pandas as pd \n",
    "\n",
    "tabela = pd.read_excel(r\"C:\\Users\\Doug\\Downloads\\Vendas - Dez.xlsx\")\n",
    "faturamento = tabela[\"Valor Final\"].sum()\n",
    "quantidade = tabela[\"Quantidade\"].sum()\n",
    "#Passo 5: Calcular o faturamento e quntidade de produtos vendidos(faturamento)\n",
    "pyautogui.hotkey(\"ctrl\", \"t\")\n",
    "link=\"https://mail.google.com/mail/u/0/#inbox\"\n",
    "pyperclip.copy(link)\n",
    "pyautogui.hotkey(\"ctrl\",\"v\")\n",
    "pyautogui.press(\"enter\")\n",
    "time.sleep(10)\n",
    "#Passo 6: Enviar email para a diretoria com a quantidade e o faturamento que calculamos \n",
    "time.sleep(10)\n",
    "pyautogui.click(94, 202)\n",
    "time.sleep(10)\n",
    "pyautogui.write(\"dsdaamorim@gmail.com\") \n",
    "pyautogui.press(\"tab\")\n",
    "time.sleep(10)\n",
    "pyautogui.press(\"tab\")\n",
    "time.sleep(10)\n",
    "assunto = \"Relatórios de Vendas\"\n",
    "pyperclip.copy(assunto)\n",
    "pyautogui.hotkey(\"ctrl\",\"v\")\n",
    "time.sleep(10)\n",
    "pyautogui.press(\"tab\")\n",
    "time.sleep(10)\n",
    "texto_email = f\"\"\"\n",
    "Prezados, bom dia\n",
    "O faturamento de ontem foi de: R${faturamento:,.2f}\n",
    "A quantidade foi de: R${quantidade:,.2f}\n",
    "\n",
    "Abraços, Douglas\n",
    "\"\"\"\n",
    "pyperclip.copy(texto_email)\n",
    "pyautogui.hotkey(\"ctrl\",\"v\")\n",
    "time.sleep(10)\n",
    "pyautogui.hotkey(\"ctrl\",\"enter\")\n"
   ]
  },
  {
   "cell_type": "code",
   "execution_count": null,
   "id": "4ff093cb",
   "metadata": {},
   "outputs": [],
   "source": []
  },
  {
   "cell_type": "code",
   "execution_count": null,
   "id": "06727b70",
   "metadata": {},
   "outputs": [],
   "source": []
  }
 ],
 "metadata": {
  "kernelspec": {
   "display_name": "Python 3",
   "language": "python",
   "name": "python3"
  },
  "language_info": {
   "codemirror_mode": {
    "name": "ipython",
    "version": 3
   },
   "file_extension": ".py",
   "mimetype": "text/x-python",
   "name": "python",
   "nbconvert_exporter": "python",
   "pygments_lexer": "ipython3",
   "version": "3.8.8"
  }
 },
 "nbformat": 4,
 "nbformat_minor": 5
}
